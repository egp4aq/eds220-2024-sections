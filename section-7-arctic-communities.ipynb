{
 "cells": [
  {
   "cell_type": "code",
   "execution_count": 6,
   "id": "8c58f0d6-3d64-4990-a38d-f573f051abfa",
   "metadata": {
    "tags": []
   },
   "outputs": [],
   "source": [
    "import geopandas as gpd\n",
    "import pandas as pd"
   ]
  },
  {
   "cell_type": "code",
   "execution_count": 14,
   "id": "15f96988-1101-4680-a92a-9931c41ac610",
   "metadata": {
    "tags": []
   },
   "outputs": [
    {
     "data": {
      "text/html": [
       "<div>\n",
       "<style scoped>\n",
       "    .dataframe tbody tr th:only-of-type {\n",
       "        vertical-align: middle;\n",
       "    }\n",
       "\n",
       "    .dataframe tbody tr th {\n",
       "        vertical-align: top;\n",
       "    }\n",
       "\n",
       "    .dataframe thead th {\n",
       "        text-align: right;\n",
       "    }\n",
       "</style>\n",
       "<table border=\"1\" class=\"dataframe\">\n",
       "  <thead>\n",
       "    <tr style=\"text-align: right;\">\n",
       "      <th></th>\n",
       "      <th>admin</th>\n",
       "      <th>country</th>\n",
       "      <th>n_communities</th>\n",
       "      <th>geometry</th>\n",
       "    </tr>\n",
       "  </thead>\n",
       "  <tbody>\n",
       "    <tr>\n",
       "      <th>0</th>\n",
       "      <td>United States of America</td>\n",
       "      <td>US</td>\n",
       "      <td>115</td>\n",
       "      <td>MULTIPOLYGON (((-132.74687 56.52568, -132.7576...</td>\n",
       "    </tr>\n",
       "    <tr>\n",
       "      <th>1</th>\n",
       "      <td>United Kingdom</td>\n",
       "      <td>GB</td>\n",
       "      <td>96</td>\n",
       "      <td>MULTIPOLYGON (((-2.66768 51.62300, -2.74214 51...</td>\n",
       "    </tr>\n",
       "    <tr>\n",
       "      <th>2</th>\n",
       "      <td>Sweden</td>\n",
       "      <td>SE</td>\n",
       "      <td>133</td>\n",
       "      <td>MULTIPOLYGON (((19.07646 57.83594, 18.99375 57...</td>\n",
       "    </tr>\n",
       "    <tr>\n",
       "      <th>3</th>\n",
       "      <td>Russia</td>\n",
       "      <td>RU</td>\n",
       "      <td>774</td>\n",
       "      <td>MULTIPOLYGON (((145.88154 43.45952, 145.89561 ...</td>\n",
       "    </tr>\n",
       "    <tr>\n",
       "      <th>4</th>\n",
       "      <td>Norway</td>\n",
       "      <td>NO</td>\n",
       "      <td>48</td>\n",
       "      <td>MULTIPOLYGON (((20.62217 69.03687, 20.49199 69...</td>\n",
       "    </tr>\n",
       "  </tbody>\n",
       "</table>\n",
       "</div>"
      ],
      "text/plain": [
       "                      admin country  n_communities  \\\n",
       "0  United States of America      US            115   \n",
       "1            United Kingdom      GB             96   \n",
       "2                    Sweden      SE            133   \n",
       "3                    Russia      RU            774   \n",
       "4                    Norway      NO             48   \n",
       "\n",
       "                                            geometry  \n",
       "0  MULTIPOLYGON (((-132.74687 56.52568, -132.7576...  \n",
       "1  MULTIPOLYGON (((-2.66768 51.62300, -2.74214 51...  \n",
       "2  MULTIPOLYGON (((19.07646 57.83594, 18.99375 57...  \n",
       "3  MULTIPOLYGON (((145.88154 43.45952, 145.89561 ...  \n",
       "4  MULTIPOLYGON (((20.62217 69.03687, 20.49199 69...  "
      ]
     },
     "execution_count": 14,
     "metadata": {},
     "output_type": "execute_result"
    }
   ],
   "source": [
    "# Import Arctic communities data\n",
    "df = gpd.read_file('data/arctic_communities.geojson')\n",
    "df.head()"
   ]
  },
  {
   "cell_type": "code",
   "execution_count": 13,
   "id": "7b36d7e2-34ed-4f9b-b8cd-1a51c576a3e5",
   "metadata": {
    "tags": []
   },
   "outputs": [
    {
     "data": {
      "text/plain": [
       "0     MultiPolygon\n",
       "1     MultiPolygon\n",
       "2     MultiPolygon\n",
       "3     MultiPolygon\n",
       "4     MultiPolygon\n",
       "5     MultiPolygon\n",
       "6          Polygon\n",
       "7          Polygon\n",
       "8     MultiPolygon\n",
       "9     MultiPolygon\n",
       "10    MultiPolygon\n",
       "11    MultiPolygon\n",
       "12    MultiPolygon\n",
       "13    MultiPolygon\n",
       "14         Polygon\n",
       "dtype: object"
      ]
     },
     "execution_count": 13,
     "metadata": {},
     "output_type": "execute_result"
    }
   ],
   "source": [
    "df.geom_type"
   ]
  },
  {
   "cell_type": "code",
   "execution_count": 70,
   "id": "7f62fa3a-4244-4234-ae3d-964c8355c1f8",
   "metadata": {
    "tags": []
   },
   "outputs": [],
   "source": [
    "def check_polygons(df):\n",
    "    if (df.geom_type == \"Multipolygon\").any():\n",
    "        print(\"Multiple feature types\")\n",
    "    else:\n",
    "        print(\"All are polygons!\")"
   ]
  },
  {
   "cell_type": "markdown",
   "id": "02449fea-9d71-4525-b886-78c48549ec2a",
   "metadata": {},
   "source": [
    "EXPLODE POLYGONS"
   ]
  },
  {
   "cell_type": "code",
   "execution_count": 79,
   "id": "03d000c3-589e-4d8c-a2f1-2afe14673b60",
   "metadata": {
    "tags": []
   },
   "outputs": [],
   "source": [
    "df = df.explode(index_parts=False).reset_index()"
   ]
  },
  {
   "cell_type": "code",
   "execution_count": 80,
   "id": "2376ed1d-f707-47a3-bb1c-6f2f9c409ee1",
   "metadata": {
    "tags": []
   },
   "outputs": [
    {
     "name": "stdout",
     "output_type": "stream",
     "text": [
      "All are polygons!\n"
     ]
    }
   ],
   "source": [
    "check_polygons(exploded)"
   ]
  },
  {
   "cell_type": "markdown",
   "id": "b60760ee-4d5f-495f-a317-404b61091d7f",
   "metadata": {},
   "source": [
    "COMPUTE MINIMUM Y-COORDINATE FOR POLYGONS"
   ]
  },
  {
   "cell_type": "code",
   "execution_count": 81,
   "id": "bbb5e540-566d-488e-a842-08f14b5a2215",
   "metadata": {
    "tags": []
   },
   "outputs": [
    {
     "name": "stdout",
     "output_type": "stream",
     "text": [
      "0    POLYGON ((-132.74687 56.52568, -132.75762 56.5...\n",
      "Name: geometry, dtype: geometry\n"
     ]
    },
    {
     "data": {
      "text/plain": [
       "geopandas.geoseries.GeoSeries"
      ]
     },
     "execution_count": 81,
     "metadata": {},
     "output_type": "execute_result"
    }
   ],
   "source": [
    "print(df.iloc[[0]]['geometry'])\n",
    "type(df.iloc[[0]]['geometry'])"
   ]
  },
  {
   "cell_type": "code",
   "execution_count": 82,
   "id": "5a0e1d82-4dbc-4a47-83ea-f9a292d3f359",
   "metadata": {
    "tags": []
   },
   "outputs": [
    {
     "data": {
      "text/plain": [
       "0    56.511035\n",
       "Name: miny, dtype: float64"
      ]
     },
     "execution_count": 82,
     "metadata": {},
     "output_type": "execute_result"
    }
   ],
   "source": [
    "df.iloc[[0]]['geometry'].bounds['miny']"
   ]
  },
  {
   "cell_type": "code",
   "execution_count": 83,
   "id": "e353679f-3bdb-4a4c-9f80-21e7074b15cb",
   "metadata": {
    "tags": []
   },
   "outputs": [],
   "source": [
    "def min_y(geodf_row):\n",
    "    return geodf_row.geometry.bounds[1]"
   ]
  },
  {
   "cell_type": "code",
   "execution_count": 84,
   "id": "0064d401-6435-4e37-8b21-1e02afb108ed",
   "metadata": {
    "tags": []
   },
   "outputs": [],
   "source": [
    "df['miny'] = df.apply(min_y, axis=1)"
   ]
  },
  {
   "cell_type": "code",
   "execution_count": 85,
   "id": "a5df601e-3fb9-4ee1-b0e6-1c14bf8fcb8d",
   "metadata": {
    "tags": []
   },
   "outputs": [
    {
     "data": {
      "text/html": [
       "<div>\n",
       "<style scoped>\n",
       "    .dataframe tbody tr th:only-of-type {\n",
       "        vertical-align: middle;\n",
       "    }\n",
       "\n",
       "    .dataframe tbody tr th {\n",
       "        vertical-align: top;\n",
       "    }\n",
       "\n",
       "    .dataframe thead th {\n",
       "        text-align: right;\n",
       "    }\n",
       "</style>\n",
       "<table border=\"1\" class=\"dataframe\">\n",
       "  <thead>\n",
       "    <tr style=\"text-align: right;\">\n",
       "      <th></th>\n",
       "      <th>index</th>\n",
       "      <th>admin</th>\n",
       "      <th>country</th>\n",
       "      <th>n_communities</th>\n",
       "      <th>geometry</th>\n",
       "      <th>miny</th>\n",
       "    </tr>\n",
       "  </thead>\n",
       "  <tbody>\n",
       "    <tr>\n",
       "      <th>0</th>\n",
       "      <td>0</td>\n",
       "      <td>United States of America</td>\n",
       "      <td>US</td>\n",
       "      <td>115</td>\n",
       "      <td>POLYGON ((-132.74687 56.52568, -132.75762 56.5...</td>\n",
       "      <td>56.511035</td>\n",
       "    </tr>\n",
       "    <tr>\n",
       "      <th>1</th>\n",
       "      <td>0</td>\n",
       "      <td>United States of America</td>\n",
       "      <td>US</td>\n",
       "      <td>115</td>\n",
       "      <td>POLYGON ((-132.77988 56.24727, -132.83096 56.2...</td>\n",
       "      <td>56.244141</td>\n",
       "    </tr>\n",
       "    <tr>\n",
       "      <th>2</th>\n",
       "      <td>0</td>\n",
       "      <td>United States of America</td>\n",
       "      <td>US</td>\n",
       "      <td>115</td>\n",
       "      <td>POLYGON ((-134.31274 58.22891, -134.31987 58.2...</td>\n",
       "      <td>58.204102</td>\n",
       "    </tr>\n",
       "    <tr>\n",
       "      <th>3</th>\n",
       "      <td>0</td>\n",
       "      <td>United States of America</td>\n",
       "      <td>US</td>\n",
       "      <td>115</td>\n",
       "      <td>POLYGON ((-145.11851 60.33711, -145.15049 60.3...</td>\n",
       "      <td>60.312646</td>\n",
       "    </tr>\n",
       "    <tr>\n",
       "      <th>4</th>\n",
       "      <td>0</td>\n",
       "      <td>United States of America</td>\n",
       "      <td>US</td>\n",
       "      <td>115</td>\n",
       "      <td>POLYGON ((-144.56563 59.81841, -144.61357 59.8...</td>\n",
       "      <td>59.812646</td>\n",
       "    </tr>\n",
       "    <tr>\n",
       "      <th>...</th>\n",
       "      <td>...</td>\n",
       "      <td>...</td>\n",
       "      <td>...</td>\n",
       "      <td>...</td>\n",
       "      <td>...</td>\n",
       "      <td>...</td>\n",
       "    </tr>\n",
       "    <tr>\n",
       "      <th>476</th>\n",
       "      <td>13</td>\n",
       "      <td>Canada</td>\n",
       "      <td>CA</td>\n",
       "      <td>7</td>\n",
       "      <td>POLYGON ((-109.16641 67.98237, -109.05391 67.9...</td>\n",
       "      <td>67.878809</td>\n",
       "    </tr>\n",
       "    <tr>\n",
       "      <th>477</th>\n",
       "      <td>13</td>\n",
       "      <td>Canada</td>\n",
       "      <td>CA</td>\n",
       "      <td>7</td>\n",
       "      <td>POLYGON ((-108.09272 67.00518, -107.96646 66.9...</td>\n",
       "      <td>66.857812</td>\n",
       "    </tr>\n",
       "    <tr>\n",
       "      <th>478</th>\n",
       "      <td>13</td>\n",
       "      <td>Canada</td>\n",
       "      <td>CA</td>\n",
       "      <td>7</td>\n",
       "      <td>POLYGON ((-109.32314 67.99087, -109.36084 67.9...</td>\n",
       "      <td>67.987598</td>\n",
       "    </tr>\n",
       "    <tr>\n",
       "      <th>479</th>\n",
       "      <td>13</td>\n",
       "      <td>Canada</td>\n",
       "      <td>CA</td>\n",
       "      <td>7</td>\n",
       "      <td>POLYGON ((-139.04312 69.57690, -139.12573 69.5...</td>\n",
       "      <td>69.539307</td>\n",
       "    </tr>\n",
       "    <tr>\n",
       "      <th>480</th>\n",
       "      <td>14</td>\n",
       "      <td>Belarus</td>\n",
       "      <td>BY</td>\n",
       "      <td>8</td>\n",
       "      <td>POLYGON ((31.76338 52.10107, 31.57373 52.10811...</td>\n",
       "      <td>51.265039</td>\n",
       "    </tr>\n",
       "  </tbody>\n",
       "</table>\n",
       "<p>481 rows × 6 columns</p>\n",
       "</div>"
      ],
      "text/plain": [
       "     index                     admin country  n_communities  \\\n",
       "0        0  United States of America      US            115   \n",
       "1        0  United States of America      US            115   \n",
       "2        0  United States of America      US            115   \n",
       "3        0  United States of America      US            115   \n",
       "4        0  United States of America      US            115   \n",
       "..     ...                       ...     ...            ...   \n",
       "476     13                    Canada      CA              7   \n",
       "477     13                    Canada      CA              7   \n",
       "478     13                    Canada      CA              7   \n",
       "479     13                    Canada      CA              7   \n",
       "480     14                   Belarus      BY              8   \n",
       "\n",
       "                                              geometry       miny  \n",
       "0    POLYGON ((-132.74687 56.52568, -132.75762 56.5...  56.511035  \n",
       "1    POLYGON ((-132.77988 56.24727, -132.83096 56.2...  56.244141  \n",
       "2    POLYGON ((-134.31274 58.22891, -134.31987 58.2...  58.204102  \n",
       "3    POLYGON ((-145.11851 60.33711, -145.15049 60.3...  60.312646  \n",
       "4    POLYGON ((-144.56563 59.81841, -144.61357 59.8...  59.812646  \n",
       "..                                                 ...        ...  \n",
       "476  POLYGON ((-109.16641 67.98237, -109.05391 67.9...  67.878809  \n",
       "477  POLYGON ((-108.09272 67.00518, -107.96646 66.9...  66.857812  \n",
       "478  POLYGON ((-109.32314 67.99087, -109.36084 67.9...  67.987598  \n",
       "479  POLYGON ((-139.04312 69.57690, -139.12573 69.5...  69.539307  \n",
       "480  POLYGON ((31.76338 52.10107, 31.57373 52.10811...  51.265039  \n",
       "\n",
       "[481 rows x 6 columns]"
      ]
     },
     "execution_count": 85,
     "metadata": {},
     "output_type": "execute_result"
    }
   ],
   "source": [
    "df"
   ]
  },
  {
   "cell_type": "code",
   "execution_count": null,
   "id": "59a7e376-3d54-4664-90ef-c7185282d47f",
   "metadata": {},
   "outputs": [],
   "source": []
  }
 ],
 "metadata": {
  "kernelspec": {
   "display_name": "Anaconda 3 (EDS220)",
   "language": "python",
   "name": "eds220-env"
  },
  "language_info": {
   "codemirror_mode": {
    "name": "ipython",
    "version": 3
   },
   "file_extension": ".py",
   "mimetype": "text/x-python",
   "name": "python",
   "nbconvert_exporter": "python",
   "pygments_lexer": "ipython3",
   "version": "3.11.4"
  }
 },
 "nbformat": 4,
 "nbformat_minor": 5
}
