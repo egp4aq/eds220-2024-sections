{
 "cells": [
  {
   "cell_type": "code",
   "execution_count": 2,
   "id": "8758e159-c9d1-49fe-a394-6818c436c556",
   "metadata": {
    "tags": []
   },
   "outputs": [],
   "source": [
    "import pandas as pd"
   ]
  },
  {
   "cell_type": "markdown",
   "id": "94897500-5681-40e5-9fa1-6a518d49ccb3",
   "metadata": {},
   "source": [
    "### Archive exploration"
   ]
  },
  {
   "cell_type": "markdown",
   "id": "06ea6017-3377-4dca-88cb-683f3e0d22e6",
   "metadata": {},
   "source": []
  },
  {
   "cell_type": "markdown",
   "id": "e412eda6-a8b3-4e67-9b5c-5a70b54a3320",
   "metadata": {},
   "source": [
    "### Adding an image"
   ]
  },
  {
   "cell_type": "markdown",
   "id": "a262a5d6-45ac-498d-bd6d-10fbfe6412fc",
   "metadata": {
    "tags": []
   },
   "source": [
    "![hare](https://upload.wikimedia.org/wikipedia/commons/thumb/8/8a/SNOWSHOE_HARE_%28Lepus_americanus%29_%285-28-2015%29_quoddy_head%2C_washington_co%2C_maine_-01_%2818988734889%29.jpg/1452px-SNOWSHOE_HARE_%28Lepus_americanus%29_%285-28-2015%29_quoddy_head%2C_washington_co%2C_maine_-01_%2818988734889%29.jpg?20170313021652)"
   ]
  },
  {
   "cell_type": "markdown",
   "id": "843e473d-2005-45bb-9ff4-25b59a91a90e",
   "metadata": {},
   "source": [
    "### Data loading and preliminary exploration"
   ]
  },
  {
   "cell_type": "code",
   "execution_count": 5,
   "id": "a26b4768-fe90-4bb6-bd06-4aafe607c519",
   "metadata": {
    "tags": []
   },
   "outputs": [],
   "source": [
    "hares = pd.read_csv(\"data/55_Hare_Data_2012.txt\")"
   ]
  },
  {
   "cell_type": "code",
   "execution_count": 6,
   "id": "4c3cfa54-0ffc-4acf-9024-349a8dea3c64",
   "metadata": {
    "tags": []
   },
   "outputs": [
    {
     "data": {
      "text/html": [
       "<div>\n",
       "<style scoped>\n",
       "    .dataframe tbody tr th:only-of-type {\n",
       "        vertical-align: middle;\n",
       "    }\n",
       "\n",
       "    .dataframe tbody tr th {\n",
       "        vertical-align: top;\n",
       "    }\n",
       "\n",
       "    .dataframe thead th {\n",
       "        text-align: right;\n",
       "    }\n",
       "</style>\n",
       "<table border=\"1\" class=\"dataframe\">\n",
       "  <thead>\n",
       "    <tr style=\"text-align: right;\">\n",
       "      <th></th>\n",
       "      <th>date</th>\n",
       "      <th>time</th>\n",
       "      <th>grid</th>\n",
       "      <th>trap</th>\n",
       "      <th>l_ear</th>\n",
       "      <th>r_ear</th>\n",
       "      <th>sex</th>\n",
       "      <th>age</th>\n",
       "      <th>weight</th>\n",
       "      <th>hindft</th>\n",
       "      <th>notes</th>\n",
       "      <th>b_key</th>\n",
       "      <th>session_id</th>\n",
       "      <th>study</th>\n",
       "    </tr>\n",
       "  </thead>\n",
       "  <tbody>\n",
       "    <tr>\n",
       "      <th>0</th>\n",
       "      <td>11/26/1998</td>\n",
       "      <td>NaN</td>\n",
       "      <td>bonrip</td>\n",
       "      <td>1A</td>\n",
       "      <td>414D096A08</td>\n",
       "      <td>NaN</td>\n",
       "      <td>NaN</td>\n",
       "      <td>NaN</td>\n",
       "      <td>1370.0</td>\n",
       "      <td>160.0</td>\n",
       "      <td>NaN</td>\n",
       "      <td>917.0</td>\n",
       "      <td>51</td>\n",
       "      <td>Population</td>\n",
       "    </tr>\n",
       "    <tr>\n",
       "      <th>1</th>\n",
       "      <td>11/26/1998</td>\n",
       "      <td>NaN</td>\n",
       "      <td>bonrip</td>\n",
       "      <td>2C</td>\n",
       "      <td>414D320671</td>\n",
       "      <td>NaN</td>\n",
       "      <td>M</td>\n",
       "      <td>NaN</td>\n",
       "      <td>1430.0</td>\n",
       "      <td>NaN</td>\n",
       "      <td>NaN</td>\n",
       "      <td>936.0</td>\n",
       "      <td>51</td>\n",
       "      <td>Population</td>\n",
       "    </tr>\n",
       "    <tr>\n",
       "      <th>2</th>\n",
       "      <td>11/26/1998</td>\n",
       "      <td>NaN</td>\n",
       "      <td>bonrip</td>\n",
       "      <td>2D</td>\n",
       "      <td>414D103E3A</td>\n",
       "      <td>NaN</td>\n",
       "      <td>M</td>\n",
       "      <td>NaN</td>\n",
       "      <td>1430.0</td>\n",
       "      <td>NaN</td>\n",
       "      <td>NaN</td>\n",
       "      <td>921.0</td>\n",
       "      <td>51</td>\n",
       "      <td>Population</td>\n",
       "    </tr>\n",
       "    <tr>\n",
       "      <th>3</th>\n",
       "      <td>11/26/1998</td>\n",
       "      <td>NaN</td>\n",
       "      <td>bonrip</td>\n",
       "      <td>2E</td>\n",
       "      <td>414D262D43</td>\n",
       "      <td>NaN</td>\n",
       "      <td>NaN</td>\n",
       "      <td>NaN</td>\n",
       "      <td>1490.0</td>\n",
       "      <td>135.0</td>\n",
       "      <td>NaN</td>\n",
       "      <td>931.0</td>\n",
       "      <td>51</td>\n",
       "      <td>Population</td>\n",
       "    </tr>\n",
       "    <tr>\n",
       "      <th>4</th>\n",
       "      <td>11/26/1998</td>\n",
       "      <td>NaN</td>\n",
       "      <td>bonrip</td>\n",
       "      <td>3B</td>\n",
       "      <td>414D2B4B58</td>\n",
       "      <td>NaN</td>\n",
       "      <td>NaN</td>\n",
       "      <td>NaN</td>\n",
       "      <td>1710.0</td>\n",
       "      <td>150.0</td>\n",
       "      <td>NaN</td>\n",
       "      <td>933.0</td>\n",
       "      <td>51</td>\n",
       "      <td>Population</td>\n",
       "    </tr>\n",
       "  </tbody>\n",
       "</table>\n",
       "</div>"
      ],
      "text/plain": [
       "         date time    grid trap       l_ear r_ear  sex  age  weight  hindft  \\\n",
       "0  11/26/1998  NaN  bonrip   1A  414D096A08   NaN  NaN  NaN  1370.0   160.0   \n",
       "1  11/26/1998  NaN  bonrip   2C  414D320671   NaN    M  NaN  1430.0     NaN   \n",
       "2  11/26/1998  NaN  bonrip   2D  414D103E3A   NaN    M  NaN  1430.0     NaN   \n",
       "3  11/26/1998  NaN  bonrip   2E  414D262D43   NaN  NaN  NaN  1490.0   135.0   \n",
       "4  11/26/1998  NaN  bonrip   3B  414D2B4B58   NaN  NaN  NaN  1710.0   150.0   \n",
       "\n",
       "  notes  b_key  session_id       study  \n",
       "0   NaN  917.0          51  Population  \n",
       "1   NaN  936.0          51  Population  \n",
       "2   NaN  921.0          51  Population  \n",
       "3   NaN  931.0          51  Population  \n",
       "4   NaN  933.0          51  Population  "
      ]
     },
     "execution_count": 6,
     "metadata": {},
     "output_type": "execute_result"
    }
   ],
   "source": [
    "hares.head()"
   ]
  }
 ],
 "metadata": {
  "kernelspec": {
   "display_name": "Anaconda 3 (Base)",
   "language": "python",
   "name": "base"
  },
  "language_info": {
   "codemirror_mode": {
    "name": "ipython",
    "version": 3
   },
   "file_extension": ".py",
   "mimetype": "text/x-python",
   "name": "python",
   "nbconvert_exporter": "python",
   "pygments_lexer": "ipython3",
   "version": "3.9.13"
  }
 },
 "nbformat": 4,
 "nbformat_minor": 5
}
